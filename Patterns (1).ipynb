{
  "nbformat": 4,
  "nbformat_minor": 0,
  "metadata": {
    "colab": {
      "provenance": []
    },
    "kernelspec": {
      "name": "python3",
      "display_name": "Python 3"
    },
    "language_info": {
      "name": "python"
    }
  },
  "cells": [
    {
      "cell_type": "code",
      "execution_count": null,
      "metadata": {
        "colab": {
          "base_uri": "https://localhost:8080/"
        },
        "id": "1-TdUk55NTI5",
        "outputId": "bf9bc173-5098-4ecb-c373-6fa5d514fd46"
      },
      "outputs": [
        {
          "output_type": "stream",
          "name": "stdout",
          "text": [
            "Please Enter The number of rows: 7\n",
            "Floyd's triangle\n",
            "1  \n",
            "2  3  \n",
            "4  5  6  \n",
            "7  8  9  10  \n",
            "11  12  13  14  15  \n",
            "16  17  18  19  20  21  \n",
            "22  23  24  25  26  27  28  \n"
          ]
        }
      ],
      "source": [
        "rows= int(input(\"Please Enter The number of rows: \"))\n",
        "number= 1\n",
        "\n",
        "print(\"Floyd's triangle\")\n",
        "\n",
        "for i in range(1, rows+1):\n",
        "  for j in range(1, i+1):\n",
        "   print(number, end = '  ')\n",
        "   number = number + 1\n",
        "  print()"
      ]
    },
    {
      "cell_type": "code",
      "source": [
        "rowsize= int(input(\"Enter no. of rows: \"))\n",
        "if rowsize%2==0:\n",
        "  halfDiamRow= int(rowsize/2)\n",
        "else\n",
        "  halfDiamRow= int(rowsize/2)+1\n",
        "space= space-1\n",
        "\n",
        "for i in range(1, halfDiamRow+1):\n",
        "  for j in range(1, space+1)\n",
        "   print(end= \"  \")"
      ],
      "metadata": {
        "id": "DxY94C4uRJyt"
      },
      "execution_count": null,
      "outputs": []
    },
    {
      "cell_type": "markdown",
      "source": [
        "ACP"
      ],
      "metadata": {
        "id": "Sdn79z-kQuXn"
      }
    },
    {
      "cell_type": "code",
      "source": [
        "rows = int(input(\"Please Enter The number of rows: \"))\n",
        "print(\"Mirrored Right Angle Triangle\")\n",
        "i = 1\n",
        "while i <= rows:\n",
        "    spaces = rows - i\n",
        "    print(\" \" * spaces + \"*\" * i)\n",
        "    i += 1\n"
      ],
      "metadata": {
        "colab": {
          "base_uri": "https://localhost:8080/"
        },
        "id": "YnElL3e2Qv5C",
        "outputId": "92da4973-24a8-4c55-d5d3-a461f77cf1fb"
      },
      "execution_count": 1,
      "outputs": [
        {
          "output_type": "stream",
          "name": "stdout",
          "text": [
            "Please Enter The number of rows: 7\n",
            "Mirrored Right Angle Triangle\n",
            "      *\n",
            "     **\n",
            "    ***\n",
            "   ****\n",
            "  *****\n",
            " ******\n",
            "*******\n"
          ]
        }
      ]
    }
  ]
}