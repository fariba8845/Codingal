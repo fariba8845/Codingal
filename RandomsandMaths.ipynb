{
  "nbformat": 4,
  "nbformat_minor": 0,
  "metadata": {
    "colab": {
      "provenance": [],
      "authorship_tag": "ABX9TyMz+OEE1kWqrG1Z3MLnv0Rv",
      "include_colab_link": true
    },
    "kernelspec": {
      "name": "python3",
      "display_name": "Python 3"
    },
    "language_info": {
      "name": "python"
    }
  },
  "cells": [
    {
      "cell_type": "markdown",
      "metadata": {
        "id": "view-in-github",
        "colab_type": "text"
      },
      "source": [
        "<a href=\"https://colab.research.google.com/github/fariba8845/Codingal/blob/main/RandomsandMaths.ipynb\" target=\"_parent\"><img src=\"https://colab.research.google.com/assets/colab-badge.svg\" alt=\"Open In Colab\"/></a>"
      ]
    },
    {
      "cell_type": "markdown",
      "source": [
        "Random number guessing game"
      ],
      "metadata": {
        "id": "AZeabveAyasd"
      }
    },
    {
      "cell_type": "code",
      "execution_count": 4,
      "metadata": {
        "colab": {
          "base_uri": "https://localhost:8080/"
        },
        "id": "VaiLzv9FuCKL",
        "outputId": "1ed2cc2f-6cc8-4211-980f-b0cef73edbe1"
      },
      "outputs": [
        {
          "output_type": "stream",
          "name": "stdout",
          "text": [
            "This program will generate a number between 10 and 20. Guess the number to win the game!\n",
            "Enter your best guess! 14\n",
            "Congratulations! You guessed it correctly\n",
            "The number was:  14\n"
          ]
        }
      ],
      "source": [
        "import random\n",
        "playing= True\n",
        "number= str(random.randint(10,20))\n",
        "\n",
        "print(\"This program will generate a number between 10 and 20. Guess the number to win the game!\")\n",
        "\n",
        "while playing:\n",
        "  guess= (input(\"Enter your best guess! \"))\n",
        "  if guess==number:\n",
        "    print(\"Congratulations! You guessed it correctly\")\n",
        "    print(\"The number was: \", number)\n",
        "    break\n",
        "  else:\n",
        "    print(\"Incorrect answer! Guess again?\")"
      ]
    },
    {
      "cell_type": "markdown",
      "source": [
        "Rock, Paper, Scissors"
      ],
      "metadata": {
        "id": "fv-tVO_bwtCn"
      }
    },
    {
      "cell_type": "code",
      "source": [
        "import random\n",
        "options= [\"rock\", \"paper\", \"scissors\"]\n",
        "computer_choice= random.choice(options)\n",
        "user_choice= input(\"Enter a choice (rock, paper, scissors): \")\n",
        "computer_choice= random.choice(options)\n",
        "\n",
        "print(\"You chose: \", user_choice)\n",
        "print(\"The Computer chose: \", computer_choice)\n",
        "\n",
        "if user_choice==computer_choice:\n",
        " print(\"It's a tie!\")\n",
        "elif user_choice == \"scissors\" and computer_choice== \"paper\":\n",
        "  print(\"Scissors cut paper, you Win!\")\n",
        "elif user_choice == \"paper\" and computer_choice== \"rock\":\n",
        "  print(\"Rock covers paper, you Win!\")\n",
        "elif user_choice == \"rock\" and computer_choice== \"scissors\":\n",
        "  print(\"Rock breaks scissors, you Win!\")\n",
        "\n",
        "else:\n",
        "  print(\"You lose!\")\n"
      ],
      "metadata": {
        "colab": {
          "base_uri": "https://localhost:8080/"
        },
        "id": "w4FYuid7wsC2",
        "outputId": "0661eeeb-9a58-48f9-aeda-b0bc2df8d9ad"
      },
      "execution_count": 7,
      "outputs": [
        {
          "output_type": "stream",
          "name": "stdout",
          "text": [
            "Enter a choice (rock, paper, scissors): paper\n",
            "You chose:  paper\n",
            "The Computer chose:  rock\n",
            "Rock covers paper, you Win!\n"
          ]
        }
      ]
    },
    {
      "cell_type": "markdown",
      "source": [
        "Mathematical Operations"
      ],
      "metadata": {
        "id": "tDjEnZm5ypa8"
      }
    },
    {
      "cell_type": "code",
      "source": [
        "import math\n",
        "\n",
        "print(math.sin(45))\n",
        "print(math.cos(45))\n",
        "print(math.tan(45))\n",
        "\n",
        "print(math.ceil(17.786))\n",
        "print(math.floor(57.786))\n",
        "print(math.factorial(8))\n",
        "\n",
        "\n",
        "\n"
      ],
      "metadata": {
        "colab": {
          "base_uri": "https://localhost:8080/"
        },
        "id": "JgawUxt0ywyc",
        "outputId": "d529e809-d165-4cec-917e-602ceae92574"
      },
      "execution_count": 8,
      "outputs": [
        {
          "output_type": "stream",
          "name": "stdout",
          "text": [
            "0.8509035245341184\n",
            "0.5253219888177297\n",
            "1.6197751905438615\n",
            "18\n",
            "57\n",
            "40320\n"
          ]
        }
      ]
    }
  ]
}