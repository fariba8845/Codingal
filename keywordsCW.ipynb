{
  "nbformat": 4,
  "nbformat_minor": 0,
  "metadata": {
    "colab": {
      "provenance": []
    },
    "kernelspec": {
      "name": "python3",
      "display_name": "Python 3"
    },
    "language_info": {
      "name": "python"
    }
  },
  "cells": [
    {
      "cell_type": "markdown",
      "source": [
        "Activity 1"
      ],
      "metadata": {
        "id": "QRzHHAWpjjKN"
      }
    },
    {
      "cell_type": "code",
      "source": [
        "a=input(\"enter a word: \")\n",
        "for i in a:\n",
        "  if (i==\"A\"):\n",
        "    print(\"A is found\")\n",
        "    break\n",
        "  else:\n",
        "    print(\"A is not found\")"
      ],
      "metadata": {
        "colab": {
          "base_uri": "https://localhost:8080/"
        },
        "id": "Vk_cbj28hc9e",
        "outputId": "fc37a234-e6e7-44bb-b6a3-f1fbfabbceac"
      },
      "execution_count": 3,
      "outputs": [
        {
          "output_type": "stream",
          "name": "stdout",
          "text": [
            "enter a word: Apple\n",
            "A is found\n"
          ]
        }
      ]
    },
    {
      "cell_type": "markdown",
      "source": [
        "Activity 2"
      ],
      "metadata": {
        "id": "QUzPMg90jhA8"
      }
    },
    {
      "cell_type": "code",
      "execution_count": 4,
      "metadata": {
        "colab": {
          "base_uri": "https://localhost:8080/"
        },
        "id": "CTJUe7Y3haN4",
        "outputId": "12439237-fb46-4c06-8839-b7660cb7400a"
      },
      "outputs": [
        {
          "output_type": "stream",
          "name": "stdout",
          "text": [
            "twist\n",
            "1\n",
            "2\n",
            "buzz\n",
            "4\n",
            "fizz\n",
            "buzz\n",
            "7\n",
            "8\n",
            "buzz\n"
          ]
        }
      ],
      "source": [
        "for x in range(10):\n",
        "  if x%20==0:\n",
        "    print(\"twist\")\n",
        "  elif x%15==0:\n",
        "    pass\n",
        "  elif x%5==0:\n",
        "    print(\"fizz\")\n",
        "  elif x%3==0:\n",
        "    print(\"buzz\")\n",
        "  else:\n",
        "    print(x)"
      ]
    },
    {
      "cell_type": "markdown",
      "source": [
        "Activity 3"
      ],
      "metadata": {
        "id": "nYJaI-r7joIp"
      }
    },
    {
      "cell_type": "code",
      "source": [
        "def find(n):\n",
        "  if n==0:\n",
        "    return -1\n",
        "  position=0\n",
        "  while (n&1)==0:\n",
        "    n>>=1\n",
        "    position+=1\n",
        "  return position\n",
        "number=8\n",
        "first_set_bit_position= find(number)\n",
        "print(f\"first set bit position: {first_set_bit_position}\")\n"
      ],
      "metadata": {
        "colab": {
          "base_uri": "https://localhost:8080/"
        },
        "id": "fv9di8X_jqLg",
        "outputId": "23436f1e-d208-4f40-c502-d1f7f6853445"
      },
      "execution_count": 5,
      "outputs": [
        {
          "output_type": "stream",
          "name": "stdout",
          "text": [
            "first set bit position: 3\n"
          ]
        }
      ]
    }
  ]
}